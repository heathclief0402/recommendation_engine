{
 "cells": [
  {
   "cell_type": "code",
   "execution_count": 1,
   "metadata": {},
   "outputs": [],
   "source": [
    "from math import sqrt"
   ]
  },
  {
   "cell_type": "code",
   "execution_count": 78,
   "metadata": {
    "scrolled": true
   },
   "outputs": [
    {
     "name": "stdout",
     "output_type": "stream",
     "text": [
      "{'Lisa Rose': {'Lady in the Water': 2.5, 'Snakes on a Plane': 3.5, 'Just My Luck': 3.0, 'Superman Returns': 3.5, 'You Me and Dupree': 2.5, 'The Night Listener': 3.0}, 'Gene Seymour': {'Lady in the Water': 3.0, 'Snakes on a Plane': 3.5, 'Just My Luck': 1.5, 'Superman Returns': 5.0, 'The Night Listener': 3.0, 'You Me and Dupree': 3.5}, 'Michael Phillips': {'Lady in the Water': 2.5, 'Snakes on a Plane': 3.0, 'Superman Returns': 3.5, 'The Night Listener': 4.0}, 'Claudia Puig': {'Snakes on a Plane': 3.5, 'Just My Luck': 3.0, 'The Night Listener': 4.5, 'Superman Returns': 4.0, 'You Me and Dupree': 2.5}, 'Mick LaSalle': {'Lady in the Water': 3.0, 'Snakes on a Plane': 4.0, 'Just My Luck': 2.0, 'Superman Returns': 3.0, 'The Night Listener': 3.0, 'You Me and Dupree': 2.0}, 'Jack Matthews': {'Lady in the Water': 3.0, 'Snakes on a Plane': 4.0, 'The Night Listener': 3.0, 'Superman Returns': 5.0, 'You Me and Dupree': 3.5}, 'Toby': {'Snakes on a Plane': 4.5, 'You Me and Dupree': 1.0, 'Superman Returns': 4.0}}\n"
     ]
    }
   ],
   "source": [
    "## Create a dictionary called critics from critics.csv file.\n",
    "## The keys are the names of the critics, and the values are dictionaries containing\n",
    "## containing the movie names as the keys and the ratings as the values\n",
    "import csv  \n",
    "csv_file = \"critics.csv\" \n",
    "critics={}\n",
    "with open(csv_file) as f:\n",
    "    rows = csv.reader(f)\n",
    "    for row in rows:\n",
    "        # need to add up \"'you\" with \" Me and Dupree'\"\n",
    "        #print(row)\n",
    "        for i in range(0, len(row)-1): \n",
    "            if row[i] == \"'You\": \n",
    "                #print(row[i])\n",
    "                #print(row[i+1])\n",
    "                #print(row[i:i+2])\n",
    "                #print(row[i+2])\n",
    "                row[i:i+2] = [\"\".join(row[i:i+2])]\n",
    "        #print(row)\n",
    "        # succed\n",
    "        name = row[0].strip(\"'\")\n",
    "        data = row[1:]\n",
    "        for i in range(1, len(data), 2): \n",
    "            #print(row[i])\n",
    "            #print(row[i+1])\n",
    "            movie_name = row[i].strip(\"'\")\n",
    "            rating = row[i+1]\n",
    "            # first need to create a element in the dict\n",
    "            #otherwise, key error with accour\n",
    "            if name not in critics:\n",
    "                critics[name]={}\n",
    "            critics[name][movie_name] = float(rating)\n",
    "print(critics)"
   ]
  },
  {
   "cell_type": "code",
   "execution_count": 22,
   "metadata": {},
   "outputs": [],
   "source": [
    "# Return a distance-based similarity score for two individuals\n",
    "# params: critics dictionary, person 1's name, person 2's name \n",
    "def sim_distance(prefs,person1,person2):\n",
    "    # Get the list of shared items (mutually rated)\n",
    "    #si={}\n",
    "    # start code \n",
    "    dif = [] # used to store rating of the shared item\n",
    "    dict_one = prefs[person1]\n",
    "    dict_two = prefs[person2]\n",
    "    #print(dict_one)\n",
    "    #print(dict_two)\n",
    "    for i in dict_one: \n",
    "        for j in dict_two: \n",
    "            if i == j: \n",
    "                rating_one = dict_one.get(i)\n",
    "                rating_two = dict_two.get(i)\n",
    "                #print(rating_two)\n",
    "                dif.append([rating_one, rating_two])\n",
    "    # structure will be like[[movie1_dict1,movie1_dict2],...]\n",
    "    if len(dif) == 0:\n",
    "        return(0)\n",
    "    sum_of_squared_difference = 0\n",
    "    for i in dif: \n",
    "        sum_of_squared_difference+= pow(i[0]-i[1],2)\n",
    "    #print(sum_of_squared_difference)\n",
    "    return(1/(1 + sqrt(sum_of_squared_difference)))#Euclidean distance\n",
    "    \n"
   ]
  },
  {
   "cell_type": "code",
   "execution_count": 23,
   "metadata": {},
   "outputs": [
    {
     "name": "stdout",
     "output_type": "stream",
     "text": [
      "0.2674788903885893\n"
     ]
    }
   ],
   "source": [
    "print(sim_distance(critics,'Toby','Jack Matthews'))"
   ]
  },
  {
   "cell_type": "code",
   "execution_count": 7,
   "metadata": {},
   "outputs": [],
   "source": [
    "# Returns the Pearson correlation coefficient for two individuals\n",
    "# first parameter is the critics dictionary\n",
    "\n",
    "def sim_pearson(prefs,person1,person2):\n",
    "    # Get the list of mutually rated items\n",
    "    #si={}\n",
    "    # start code \n",
    "    dif = [] # used to store rating of the shared item\n",
    "    dict_one = prefs[person1]\n",
    "    dict_two = prefs[person2]\n",
    "    #print(dict_one)\n",
    "    #print(dict_two)\n",
    "    for i in dict_one: \n",
    "        for j in dict_two: \n",
    "            if i == j: \n",
    "                rating_one = dict_one.get(i)\n",
    "                rating_two = dict_two.get(i)\n",
    "                #print(rating_two)\n",
    "                dif.append([rating_one, rating_two])\n",
    "    # structure will be like[[movie1_dict1,movie1_dict2],...]\n",
    "    if len(dif) == 0:\n",
    "        return(0)\n",
    "    \n",
    "    #find the number of common elements\n",
    "    n = len(dif)\n",
    "    \n",
    "    #Add up all the ratings for each individual\n",
    "    sum1 = 0                            # write code for person1\n",
    "    sum2 = 0                            # write code for person2\n",
    "    \n",
    "    \n",
    "    # Sum up the squares of the ratings for each person\n",
    "    sum1Sq =  0                         # write code for person1\n",
    "    sum2Sq =  0                         # write code for person2\n",
    "    \n",
    "    # Sum up the products of the ratings for the two individuals \n",
    "    # rating person 1 x rating person 2 for all the common ratings and add it up\n",
    "    pSum =  0                           # write code here \n",
    "    for i in dif: \n",
    "        sum1+=i[0]\n",
    "        sum2+=i[1]\n",
    "        sum1Sq+= pow(i[0],2)\n",
    "        sum2Sq+= pow(i[1],2)\n",
    "        pSum+=i[0]*i[1]\n",
    "    #Calculate Pearson score\n",
    "    numerator = pSum - (sum1*sum2/n)\n",
    "    denominator = sqrt((sum1Sq-pow(sum1,2)/n)*(sum2Sq-pow(sum2,2)/n))\n",
    "    \n",
    "    if denominator == 0:\n",
    "        return(0)\n",
    "    \n",
    "    r = numerator/denominator\n",
    "    return(r)\n",
    "    "
   ]
  },
  {
   "cell_type": "code",
   "execution_count": 8,
   "metadata": {},
   "outputs": [
    {
     "name": "stdout",
     "output_type": "stream",
     "text": [
      "0.66284898035987\n"
     ]
    }
   ],
   "source": [
    "print(sim_pearson(critics,'Toby','Jack Matthews'))"
   ]
  },
  {
   "cell_type": "code",
   "execution_count": 24,
   "metadata": {},
   "outputs": [],
   "source": [
    "# Return the best matches for person from the critics dictionary\n",
    "# Number of results and similarity function are optional parameters\n",
    "def topMatches(prefs,person,n=5,similarity=sim_pearson):\n",
    "    ## find the similarity scores for the person and every other individual\n",
    "    ## store values in a tuple for the person and other individual\n",
    "    scores = []\n",
    "    for other in prefs: \n",
    "        if other == person: \n",
    "            continue\n",
    "        scores.append((sim_pearson(prefs,person,other),other))\n",
    "    # sort the list so that the highest scores appear at the top\n",
    "    scores.sort()\n",
    "    scores.reverse()\n",
    "    return(scores[0:n])"
   ]
  },
  {
   "cell_type": "code",
   "execution_count": 25,
   "metadata": {},
   "outputs": [
    {
     "name": "stdout",
     "output_type": "stream",
     "text": [
      "[(0.9912407071619299, 'Lisa Rose'), (0.9244734516419049, 'Mick LaSalle'), (0.8934051474415647, 'Claudia Puig'), (0.66284898035987, 'Jack Matthews'), (0.38124642583151164, 'Gene Seymour')]\n"
     ]
    }
   ],
   "source": [
    "print(topMatches(critics,'Toby'))"
   ]
  },
  {
   "cell_type": "code",
   "execution_count": 85,
   "metadata": {},
   "outputs": [],
   "source": [
    "## Get recommendations for a person by using a weighted average\n",
    "## of every other user's rankings\n",
    "def getRecommendations(prefs,person,similarity=sim_pearson):\n",
    "    totals = {}\n",
    "    simSums = {}\n",
    "    for other in prefs:\n",
    "        #don't compare me to myself\n",
    "        if other == person:\n",
    "            continue\n",
    "        sim =  sim_pearson(prefs,person,other)# write code for similarity here\n",
    "        #print(sim)\n",
    "        #ignore scores of zero or lower\n",
    "        if sim <= 0:\n",
    "            continue\n",
    "        for item in prefs[other]:\n",
    "            #only score movies I haven't seen yet\n",
    "            if item not in prefs[person] or prefs[person][item]==0:\n",
    "                #Similariy * Score\n",
    "                totals.setdefault(item,0)\n",
    "                totals[item] += prefs[other][item]*sim\n",
    "                # set totals[item] += the rating of the person * their correlation coefficient \n",
    "                #  Write code for totals here (1 line)\n",
    "                #Sum of similarities\n",
    "                simSums.setdefault(item,0)\n",
    "                simSums[item]+=sim\n",
    "                # Write code here to add similarity (1 line)\n",
    "            #create a normalized list\n",
    "        #print(totals)\n",
    "        #print(simSums)\n",
    "    rankings = [(total/simSums[item],item) for item,total in totals.items()]\n",
    "        #print(rankings)\n",
    "        # return the sorted list\n",
    "    rankings.sort()\n",
    "    rankings.reverse()\n",
    "    return(rankings)"
   ]
  },
  {
   "cell_type": "code",
   "execution_count": 86,
   "metadata": {},
   "outputs": [
    {
     "name": "stdout",
     "output_type": "stream",
     "text": [
      "[(3.3477895267131017, 'The Night Listener'), (2.8325499182641614, 'Lady in the Water'), (2.530980703765565, 'Just My Luck')]\n"
     ]
    }
   ],
   "source": [
    "print(getRecommendations(critics,'Toby'))"
   ]
  },
  {
   "cell_type": "code",
   "execution_count": 87,
   "metadata": {},
   "outputs": [
    {
     "name": "stdout",
     "output_type": "stream",
     "text": [
      "[(2.150559004463025, 'Just My Luck')]\n"
     ]
    }
   ],
   "source": [
    "print(getRecommendations(critics,'Jack Matthews'))"
   ]
  },
  {
   "cell_type": "code",
   "execution_count": null,
   "metadata": {},
   "outputs": [],
   "source": []
  }
 ],
 "metadata": {
  "kernelspec": {
   "display_name": "Python 3 (ipykernel)",
   "language": "python",
   "name": "python3"
  },
  "language_info": {
   "codemirror_mode": {
    "name": "ipython",
    "version": 3
   },
   "file_extension": ".py",
   "mimetype": "text/x-python",
   "name": "python",
   "nbconvert_exporter": "python",
   "pygments_lexer": "ipython3",
   "version": "3.9.13"
  }
 },
 "nbformat": 4,
 "nbformat_minor": 2
}
